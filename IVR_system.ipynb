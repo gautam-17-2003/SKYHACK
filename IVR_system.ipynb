{
 "cells": [
  {
   "cell_type": "code",
   "execution_count": 71,
   "metadata": {},
   "outputs": [],
   "source": [
    "import pandas as pd\n",
    "import matplotlib.pyplot as plt\n",
    "\n",
    "calls_df = pd.read_csv('callsf0d4f5a.csv')\n",
    "reasons_df = pd.read_csv('reason18315ff.csv')\n",
    "\n",
    "merged_df = pd.merge(calls_df, reasons_df, on='call_id')\n",
    "\n",
    "merged_df.isnull().sum()  # Check for missing values\n",
    "merged_df.dropna(subset=['call_transcript', 'primary_call_reason'], inplace=True)  # Drop missing transcripts or reasons\n",
    "\n",
    "merged_df['primary_call_reason'] = merged_df['primary_call_reason'].str.strip().str.lower()"
   ]
  },
  {
   "cell_type": "code",
   "execution_count": 72,
   "metadata": {},
   "outputs": [
    {
     "name": "stdout",
     "output_type": "stream",
     "text": [
      "primary_call_reason\n",
      "irrops                   13311\n",
      "voluntary change         10848\n",
      "seating                   6365\n",
      "mileage plus              5851\n",
      "post-flight               3957\n",
      "communications            3840\n",
      "products and services     2856\n",
      "baggage                   2832\n",
      "upgrade                   2738\n",
      "booking                   2637\n",
      "checkout                  1888\n",
      "voluntary cancel          1607\n",
      "check-in                  1519\n",
      "digital support           1225\n",
      "etc                        952\n",
      "traveler updates           937\n",
      "other topics               818\n",
      "schedule change            731\n",
      "products & services        476\n",
      "disability                 403\n",
      "check in                   385\n",
      "post flight                373\n",
      "unaccompanied minor        104\n",
      "Name: count, dtype: int64\n"
     ]
    }
   ],
   "source": [
    "merged_df['primary_call_reason'] = (\n",
    "    merged_df['primary_call_reason']\n",
    "    .str.strip()  # Remove leading/trailing spaces\n",
    "    .str.lower()  # Convert to lowercase for consistency\n",
    "    .str.replace(r'\\s+', ' ', regex=True)  # Replace multiple spaces with a single space\n",
    ")\n",
    "\n",
    "cleaned_call_frequency = merged_df['primary_call_reason'].value_counts()\n",
    "\n",
    "print(cleaned_call_frequency)"
   ]
  },
  {
   "cell_type": "code",
   "execution_count": 74,
   "metadata": {},
   "outputs": [
    {
     "name": "stdout",
     "output_type": "stream",
     "text": [
      "Self-solvable call reason frequencies:\n",
      "primary_call_reason\n",
      "seating             6365\n",
      "mileage plus        5851\n",
      "booking             2637\n",
      "voluntary cancel    1607\n",
      "check-in            1519\n",
      "digital support     1225\n",
      "traveler updates     937\n",
      "schedule change      731\n",
      "Name: count, dtype: int64\n"
     ]
    }
   ],
   "source": [
    "# Define self-solvable issues (based on your observations)\n",
    "self_solvable_reasons = [\n",
    "    'seating', 'mileage plus', 'booking', 'check-in',\n",
    "    'voluntary cancel', 'digital support', 'traveler updates', 'schedule change'\n",
    "]\n",
    "\n",
    "# Filter out self-solvable calls\n",
    "self_solvable_df = merged_df[merged_df['primary_call_reason'].isin(self_solvable_reasons)]\n",
    "\n",
    "# Check the frequency of self-solvable reasons\n",
    "call_frequency = self_solvable_df['primary_call_reason'].value_counts()\n",
    "print(\"Self-solvable call reason frequencies:\")\n",
    "print(call_frequency)"
   ]
  },
  {
   "cell_type": "code",
   "execution_count": 76,
   "metadata": {},
   "outputs": [],
   "source": [
    "sentiment = pd.read_csv('sentiment_statisticscc1e57a.csv')"
   ]
  },
  {
   "cell_type": "code",
   "execution_count": 108,
   "metadata": {},
   "outputs": [
    {
     "data": {
      "text/plain": [
       "array(['angry', 'neutral', 'polite', 'frustrated', 'calm'], dtype=object)"
      ]
     },
     "execution_count": 108,
     "metadata": {},
     "output_type": "execute_result"
    }
   ],
   "source": [
    "sentiment.customer_tone.unique()"
   ]
  },
  {
   "cell_type": "code",
   "execution_count": 110,
   "metadata": {},
   "outputs": [],
   "source": [
    "merged_df['sentiment']= sentiment['average_sentiment']\n",
    "merged_df['customer_tone'] = sentiment['customer_tone']"
   ]
  },
  {
   "cell_type": "code",
   "execution_count": 79,
   "metadata": {},
   "outputs": [],
   "source": [
    "merged_df['call_start_datetime'] = pd.to_datetime(merged_df['call_start_datetime'])\n",
    "merged_df['agent_assigned_datetime'] = pd.to_datetime(merged_df['agent_assigned_datetime'])\n",
    "merged_df['call_end_datetime'] = pd.to_datetime(merged_df['call_end_datetime'])"
   ]
  },
  {
   "cell_type": "code",
   "execution_count": 81,
   "metadata": {},
   "outputs": [],
   "source": [
    "# calls['waiting_time(in min)'] = (calls['agent_assigned_datetime'] - calls['call_start_datetime']).dt.total_seconds() / 60\n",
    "merged_df['handle_time(in min)'] = (merged_df['call_end_datetime'] - merged_df['agent_assigned_datetime']).dt.total_seconds() / 60"
   ]
  },
  {
   "cell_type": "code",
   "execution_count": 84,
   "metadata": {},
   "outputs": [],
   "source": [
    "merged_df.drop(columns=['call_transcript','call_start_datetime','agent_assigned_datetime','call_end_datetime'],inplace=True)"
   ]
  },
  {
   "cell_type": "code",
   "execution_count": 111,
   "metadata": {},
   "outputs": [
    {
     "data": {
      "text/html": [
       "<div>\n",
       "<style scoped>\n",
       "    .dataframe tbody tr th:only-of-type {\n",
       "        vertical-align: middle;\n",
       "    }\n",
       "\n",
       "    .dataframe tbody tr th {\n",
       "        vertical-align: top;\n",
       "    }\n",
       "\n",
       "    .dataframe thead th {\n",
       "        text-align: right;\n",
       "    }\n",
       "</style>\n",
       "<table border=\"1\" class=\"dataframe\">\n",
       "  <thead>\n",
       "    <tr style=\"text-align: right;\">\n",
       "      <th></th>\n",
       "      <th>call_id</th>\n",
       "      <th>customer_id</th>\n",
       "      <th>agent_id</th>\n",
       "      <th>primary_call_reason</th>\n",
       "      <th>sentiment</th>\n",
       "      <th>handle_time(in min)</th>\n",
       "      <th>sentiment_class</th>\n",
       "      <th>routing_decision</th>\n",
       "      <th>feedback</th>\n",
       "      <th>customer_tone</th>\n",
       "    </tr>\n",
       "  </thead>\n",
       "  <tbody>\n",
       "    <tr>\n",
       "      <th>0</th>\n",
       "      <td>4667960400</td>\n",
       "      <td>2033123310</td>\n",
       "      <td>963118</td>\n",
       "      <td>voluntary cancel</td>\n",
       "      <td>-0.04</td>\n",
       "      <td>31.0</td>\n",
       "      <td>positive</td>\n",
       "      <td>Transfer to Agent</td>\n",
       "      <td>Review IVR failure and improve options</td>\n",
       "      <td>angry</td>\n",
       "    </tr>\n",
       "    <tr>\n",
       "      <th>1</th>\n",
       "      <td>1122072124</td>\n",
       "      <td>8186702651</td>\n",
       "      <td>519057</td>\n",
       "      <td>booking</td>\n",
       "      <td>0.02</td>\n",
       "      <td>12.0</td>\n",
       "      <td>positive</td>\n",
       "      <td>Resolve via IVR</td>\n",
       "      <td>IVR success</td>\n",
       "      <td>neutral</td>\n",
       "    </tr>\n",
       "    <tr>\n",
       "      <th>2</th>\n",
       "      <td>6834291559</td>\n",
       "      <td>2416856629</td>\n",
       "      <td>158319</td>\n",
       "      <td>irrops</td>\n",
       "      <td>-0.13</td>\n",
       "      <td>19.0</td>\n",
       "      <td>positive</td>\n",
       "      <td>Resolve via IVR</td>\n",
       "      <td>Non self-solvable issue</td>\n",
       "      <td>polite</td>\n",
       "    </tr>\n",
       "    <tr>\n",
       "      <th>3</th>\n",
       "      <td>2266439882</td>\n",
       "      <td>1154544516</td>\n",
       "      <td>488324</td>\n",
       "      <td>upgrade</td>\n",
       "      <td>-0.20</td>\n",
       "      <td>7.0</td>\n",
       "      <td>neutral</td>\n",
       "      <td>Resolve via IVR</td>\n",
       "      <td>Non self-solvable issue</td>\n",
       "      <td>frustrated</td>\n",
       "    </tr>\n",
       "    <tr>\n",
       "      <th>4</th>\n",
       "      <td>1211603231</td>\n",
       "      <td>5214456437</td>\n",
       "      <td>721730</td>\n",
       "      <td>seating</td>\n",
       "      <td>-0.05</td>\n",
       "      <td>9.0</td>\n",
       "      <td>positive</td>\n",
       "      <td>Transfer to Agent</td>\n",
       "      <td>Review IVR failure and improve options</td>\n",
       "      <td>polite</td>\n",
       "    </tr>\n",
       "  </tbody>\n",
       "</table>\n",
       "</div>"
      ],
      "text/plain": [
       "      call_id  customer_id  agent_id primary_call_reason  sentiment  \\\n",
       "0  4667960400   2033123310    963118    voluntary cancel      -0.04   \n",
       "1  1122072124   8186702651    519057             booking       0.02   \n",
       "2  6834291559   2416856629    158319              irrops      -0.13   \n",
       "3  2266439882   1154544516    488324             upgrade      -0.20   \n",
       "4  1211603231   5214456437    721730             seating      -0.05   \n",
       "\n",
       "   handle_time(in min) sentiment_class   routing_decision  \\\n",
       "0                 31.0        positive  Transfer to Agent   \n",
       "1                 12.0        positive    Resolve via IVR   \n",
       "2                 19.0        positive    Resolve via IVR   \n",
       "3                  7.0         neutral    Resolve via IVR   \n",
       "4                  9.0        positive  Transfer to Agent   \n",
       "\n",
       "                                 feedback customer_tone  \n",
       "0  Review IVR failure and improve options         angry  \n",
       "1                             IVR success       neutral  \n",
       "2                 Non self-solvable issue        polite  \n",
       "3                 Non self-solvable issue    frustrated  \n",
       "4  Review IVR failure and improve options        polite  "
      ]
     },
     "execution_count": 111,
     "metadata": {},
     "output_type": "execute_result"
    }
   ],
   "source": [
    "merged_df.head()"
   ]
  },
  {
   "cell_type": "markdown",
   "metadata": {},
   "source": [
    "### classify reasons for IVR via sentiments"
   ]
  },
  {
   "cell_type": "code",
   "execution_count": 117,
   "metadata": {},
   "outputs": [
    {
     "name": "stdout",
     "output_type": "stream",
     "text": [
      "sentiment_class      negative  neutral  positive\n",
      "primary_call_reason                             \n",
      "booking                  1429      312       896\n",
      "check-in                  813      180       526\n",
      "digital support           619      173       433\n",
      "mileage plus             3148      710      1993\n",
      "schedule change           394       83       254\n",
      "seating                  3479      732      2154\n",
      "traveler updates          499      131       307\n",
      "voluntary cancel          863      210       534\n"
     ]
    },
    {
     "data": {
      "image/png": "[encoded data removed]",
      "text/plain": [
       "<Figure size 640x480 with 1 Axes>"
      ]
     },
     "metadata": {},
     "output_type": "display_data"
    }
   ],
   "source": [
    "# Classify sentiment into positive, negative, and neutral\n",
    "def classify_sentiment(polarity):\n",
    "    if polarity > 0:\n",
    "        return 'positive'\n",
    "    elif polarity < 0:\n",
    "        return 'negative'\n",
    "    else:\n",
    "        return 'neutral'\n",
    "\n",
    "merged_df['sentiment_class'] = merged_df['sentiment'].apply(classify_sentiment)\n",
    "\n",
    "# Analyze how sentiment correlates with self-solvable reasons\n",
    "self_solvable_sentiment = merged_df[merged_df['primary_call_reason'].isin(self_solvable_reasons)]\n",
    "sentiment_distribution = self_solvable_sentiment.groupby('primary_call_reason')['sentiment_class'].value_counts().unstack()\n",
    "sentiment_distribution.plot(kind='bar')\n",
    "plt.ylabel('calls')\n",
    "print(sentiment_distribution)"
   ]
  },
  {
   "cell_type": "markdown",
   "metadata": {},
   "source": [
    "### classify reasons for IVR via customer tone"
   ]
  },
  {
   "cell_type": "code",
   "execution_count": 114,
   "metadata": {},
   "outputs": [
    {
     "name": "stdout",
     "output_type": "stream",
     "text": [
      "classify_tone        negitive  neutral  positive\n",
      "primary_call_reason                             \n",
      "booking                  1023     1114       500\n",
      "check-in                  599      599       321\n",
      "digital support           500      498       227\n",
      "mileage plus             2282     2374      1195\n",
      "schedule change           285      314       132\n",
      "seating                  2574     2541      1250\n",
      "traveler updates          381      379       177\n",
      "voluntary cancel          642      633       332\n"
     ]
    },
    {
     "data": {
      "image/png": "[encoded data removed]",
      "text/plain": [
       "<Figure size 640x480 with 1 Axes>"
      ]
     },
     "metadata": {},
     "output_type": "display_data"
    }
   ],
   "source": [
    "# Classify sentiment into positive, negative, and neutral by customer tone : 'angry', 'neutral', 'polite', 'frustrated', 'calm'\n",
    "def classify_tone(tone):\n",
    "    if tone == 'polite':\n",
    "        return 'positive'\n",
    "    elif tone == 'neutral' or tone == 'calm':\n",
    "        return 'neutral'\n",
    "    else:\n",
    "        return 'negitive'\n",
    "\n",
    "merged_df['classify_tone'] = merged_df['customer_tone'].apply(classify_tone)\n",
    "\n",
    "# Analyze how sentiment correlates with self-solvable reasons\n",
    "self_solvable_sentiment = merged_df[merged_df['primary_call_reason'].isin(self_solvable_reasons)]\n",
    "sentiment_distribution_tone = self_solvable_sentiment.groupby('primary_call_reason')['classify_tone'].value_counts().unstack()\n",
    "sentiment_distribution_tone.plot(kind='bar')\n",
    "plt.ylabel('self-solvable_reasons')\n",
    "print(sentiment_distribution_tone)"
   ]
  },
  {
   "cell_type": "code",
   "execution_count": 26,
   "metadata": {},
   "outputs": [
    {
     "name": "stdout",
     "output_type": "stream",
     "text": [
      "Proposed IVR Options:\n",
      "Option 1: Cancel your booking.\n",
      "Option 2: Check your booking or flight status.\n",
      "Option 3: View or change your seat assignment.\n",
      "Option 4: Check your Mileage Plus balance.\n",
      "Option 5: Check-in for your flight.\n",
      "Option 6: Review schedule changes and rebook.\n",
      "Option 7: Get traveler-related updates.\n",
      "Option 8: Reset your password or resolve account issues.\n"
     ]
    }
   ],
   "source": [
    "# Define IVR options based on most frequent self-solvable reasons\n",
    "ivr_options = {\n",
    "    \"1\": \"Cancel your booking.\",\n",
    "    \"2\": \"Check your booking or flight status.\",\n",
    "    \"3\": \"View or change your seat assignment.\",\n",
    "    \"4\": \"Check your Mileage Plus balance.\",\n",
    "    \"5\": \"Check-in for your flight.\",\n",
    "    \"6\": \"Review schedule changes and rebook.\",\n",
    "    \"7\": \"Get traveler-related updates.\",\n",
    "    \"8\": \"Reset your password or resolve account issues.\"\n",
    "}\n",
    "\n",
    "# Display proposed IVR options\n",
    "print(\"Proposed IVR Options:\")\n",
    "for key, value in ivr_options.items():\n",
    "    print(f\"Option {key}: {value}\")\n"
   ]
  },
  {
   "cell_type": "code",
   "execution_count": 95,
   "metadata": {},
   "outputs": [
    {
     "name": "stdout",
     "output_type": "stream",
     "text": [
      "Number of escalations to agents for self-solvable issues: 11244\n",
      "routing_decision\n",
      "Resolve via IVR      55409\n",
      "Transfer to Agent    11244\n",
      "Name: count, dtype: int64\n"
     ]
    },
    {
     "data": {
      "image/png": "[encoded data removed]",
      "text/plain": [
       "<Figure size 640x480 with 1 Axes>"
      ]
     },
     "metadata": {},
     "output_type": "display_data"
    }
   ],
   "source": [
    "# Contextual Call Routing\n",
    "# Check how many self-solvable issues escalated to agents\n",
    "self_solvable_escalations = merged_df[\n",
    "    (merged_df['primary_call_reason'].isin(self_solvable_reasons)) & \n",
    "    (merged_df['sentiment_class'] == 'negative')\n",
    "]\n",
    "\n",
    "# Get the number of escalations and propose agent transition strategies\n",
    "escalation_count = self_solvable_escalations.shape[0]\n",
    "print(f\"Number of escalations to agents for self-solvable issues: {escalation_count}\")\n",
    "\n",
    "# Implement strategy for smooth agent transition\n",
    "def route_to_agent(call_reason, sentiment_class):\n",
    "    if call_reason in self_solvable_reasons and sentiment_class == 'negative':\n",
    "        return \"Transfer to Agent\"\n",
    "    return \"Resolve via IVR\"\n",
    "\n",
    "merged_df['routing_decision'] = merged_df.apply(\n",
    "    lambda row: route_to_agent(row['primary_call_reason'], row['sentiment_class']), axis=1\n",
    ")\n",
    "\n",
    "# Display routing decisions\n",
    "routing_decisions = merged_df['routing_decision'].value_counts()\n",
    "print(routing_decisions)\n",
    "\n",
    "\n",
    "routing_decisions.plot(kind='bar')\n",
    "plt.xticks(rotation=0)\n",
    "plt.show()"
   ]
  },
  {
   "cell_type": "code",
   "execution_count": 96,
   "metadata": {},
   "outputs": [
    {
     "data": {
      "text/html": [
       "<div>\n",
       "<style scoped>\n",
       "    .dataframe tbody tr th:only-of-type {\n",
       "        vertical-align: middle;\n",
       "    }\n",
       "\n",
       "    .dataframe tbody tr th {\n",
       "        vertical-align: top;\n",
       "    }\n",
       "\n",
       "    .dataframe thead th {\n",
       "        text-align: right;\n",
       "    }\n",
       "</style>\n",
       "<table border=\"1\" class=\"dataframe\">\n",
       "  <thead>\n",
       "    <tr style=\"text-align: right;\">\n",
       "      <th></th>\n",
       "      <th>call_id</th>\n",
       "      <th>customer_id</th>\n",
       "      <th>agent_id</th>\n",
       "      <th>primary_call_reason</th>\n",
       "      <th>sentiment</th>\n",
       "      <th>handle_time(in min)</th>\n",
       "      <th>sentiment_class</th>\n",
       "      <th>routing_decision</th>\n",
       "    </tr>\n",
       "  </thead>\n",
       "  <tbody>\n",
       "    <tr>\n",
       "      <th>0</th>\n",
       "      <td>4667960400</td>\n",
       "      <td>2033123310</td>\n",
       "      <td>963118</td>\n",
       "      <td>voluntary cancel</td>\n",
       "      <td>-0.04</td>\n",
       "      <td>31.0</td>\n",
       "      <td>negative</td>\n",
       "      <td>Transfer to Agent</td>\n",
       "    </tr>\n",
       "    <tr>\n",
       "      <th>1</th>\n",
       "      <td>1122072124</td>\n",
       "      <td>8186702651</td>\n",
       "      <td>519057</td>\n",
       "      <td>booking</td>\n",
       "      <td>0.02</td>\n",
       "      <td>12.0</td>\n",
       "      <td>positive</td>\n",
       "      <td>Resolve via IVR</td>\n",
       "    </tr>\n",
       "    <tr>\n",
       "      <th>2</th>\n",
       "      <td>6834291559</td>\n",
       "      <td>2416856629</td>\n",
       "      <td>158319</td>\n",
       "      <td>irrops</td>\n",
       "      <td>-0.13</td>\n",
       "      <td>19.0</td>\n",
       "      <td>negative</td>\n",
       "      <td>Resolve via IVR</td>\n",
       "    </tr>\n",
       "    <tr>\n",
       "      <th>3</th>\n",
       "      <td>2266439882</td>\n",
       "      <td>1154544516</td>\n",
       "      <td>488324</td>\n",
       "      <td>upgrade</td>\n",
       "      <td>-0.20</td>\n",
       "      <td>7.0</td>\n",
       "      <td>negative</td>\n",
       "      <td>Resolve via IVR</td>\n",
       "    </tr>\n",
       "    <tr>\n",
       "      <th>4</th>\n",
       "      <td>1211603231</td>\n",
       "      <td>5214456437</td>\n",
       "      <td>721730</td>\n",
       "      <td>seating</td>\n",
       "      <td>-0.05</td>\n",
       "      <td>9.0</td>\n",
       "      <td>negative</td>\n",
       "      <td>Transfer to Agent</td>\n",
       "    </tr>\n",
       "  </tbody>\n",
       "</table>\n",
       "</div>"
      ],
      "text/plain": [
       "      call_id  customer_id  agent_id primary_call_reason  sentiment  \\\n",
       "0  4667960400   2033123310    963118    voluntary cancel      -0.04   \n",
       "1  1122072124   8186702651    519057             booking       0.02   \n",
       "2  6834291559   2416856629    158319              irrops      -0.13   \n",
       "3  2266439882   1154544516    488324             upgrade      -0.20   \n",
       "4  1211603231   5214456437    721730             seating      -0.05   \n",
       "\n",
       "   handle_time(in min) sentiment_class   routing_decision  \n",
       "0                 31.0        negative  Transfer to Agent  \n",
       "1                 12.0        positive    Resolve via IVR  \n",
       "2                 19.0        negative    Resolve via IVR  \n",
       "3                  7.0        negative    Resolve via IVR  \n",
       "4                  9.0        negative  Transfer to Agent  "
      ]
     },
     "execution_count": 96,
     "metadata": {},
     "output_type": "execute_result"
    }
   ],
   "source": [
    "merged_df.head()"
   ]
  },
  {
   "cell_type": "code",
   "execution_count": 102,
   "metadata": {},
   "outputs": [
    {
     "data": {
      "text/plain": [
       "routing_decision\n",
       "Resolve via IVR      11.831580\n",
       "Transfer to Agent    10.575062\n",
       "Name: handle_time(in min), dtype: float64"
      ]
     },
     "execution_count": 102,
     "metadata": {},
     "output_type": "execute_result"
    }
   ],
   "source": [
    "merged_df.groupby('routing_decision')['handle_time(in min)'].mean()"
   ]
  },
  {
   "cell_type": "code",
   "execution_count": 103,
   "metadata": {},
   "outputs": [
    {
     "name": "stdout",
     "output_type": "stream",
     "text": [
      "feedback\n",
      "Non self-solvable issue                   45781\n",
      "Review IVR failure and improve options    11244\n",
      "IVR success                                9628\n",
      "Name: count, dtype: int64\n"
     ]
    }
   ],
   "source": [
    "# Create a feedback loop to monitor IVR performance and sentiment\n",
    "def monitor_feedback(call_reason, sentiment_class):\n",
    "    if call_reason in self_solvable_reasons:\n",
    "        if sentiment_class == 'negative':\n",
    "            return \"Review IVR failure and improve options\"\n",
    "        else:\n",
    "            return \"IVR success\"\n",
    "    else:\n",
    "        return \"Non self-solvable issue\"\n",
    "\n",
    "# Apply the feedback loop\n",
    "merged_df['feedback'] = merged_df.apply(\n",
    "    lambda row: monitor_feedback(row['primary_call_reason'], row['sentiment_class']), axis=1\n",
    ")\n",
    "\n",
    "# Display feedback loop results\n",
    "feedback_summary = merged_df['feedback'].value_counts()\n",
    "print(feedback_summary)"
   ]
  }
 ],
 "metadata": {
  "kernelspec": {
   "display_name": "env",
   "language": "python",
   "name": "python3"
  },
  "language_info": {
   "codemirror_mode": {
    "name": "ipython",
    "version": 3
   },
   "file_extension": ".py",
   "mimetype": "text/x-python",
   "name": "python",
   "nbconvert_exporter": "python",
   "pygments_lexer": "ipython3",
   "version": "3.12.3"
  }
 },
 "nbformat": 4,
 "nbformat_minor": 2
}
